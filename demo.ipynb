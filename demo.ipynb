{
 "cells": [
  {
   "cell_type": "markdown",
   "metadata": {},
   "source": [
    "# Quantum Information Final\n",
    "Gregory Croisdale, Cade Brown, Rebecca Ryan\n",
    "University of Tennessee, Knoxville\n",
    "PHYS 494"
   ]
  },
  {
   "cell_type": "markdown",
   "metadata": {},
   "source": [
    "For a dynamic version of this page, download and run the repository at the following address: <br>\n",
    "https://github.com/gcrois/QFastInteger\n",
    "\n",
    "See the readme for other sources and requirements."
   ]
  },
  {
   "cell_type": "code",
   "execution_count": 1,
   "metadata": {},
   "outputs": [
    {
     "name": "stdout",
     "output_type": "stream",
     "text": [
      "Success!\n",
      "Integer Multiplication Success!\n",
      "RSA Successful!\n"
     ]
    }
   ],
   "source": [
    "%run implementations/lucas-lehmer.ipynb\n",
    "%run implementations/shors.ipynb\n",
    "%run implementations/integer-mult.ipynb\n",
    "%run implementations/rsa.ipynb\n",
    "\n",
    "import time\n",
    "import random\n",
    "import numpy as np\n",
    "import matplotlib.pyplot as plt"
   ]
  },
  {
   "cell_type": "markdown",
   "metadata": {},
   "source": [
    "# RSA (and Shor's Algorithm)\n",
    "\n",
    "RSA, a secure encryption algorithm, is used for sending private data across unsecure public connections, utilizing public and private keys. Essentially, anyone can have your public key, and they can use that to encrypt a message to send you. However, only the person with the private key can decrypt the message and view the secret data.\n",
    "\n",
    "The way this can happen and be secure to outside attackers is due to the math behind it. By sing a few formulas, turning any text/images into numbers, you can safely send the encrypted data (which looks nothing like the original message) across lines where other people may view it, but only the owner of the private key will be able to view the original intended message.\n",
    "\n",
    "\n",
    "## The Maths\n",
    "\n",
    "The basis for any RSA keypair are two prime numbers $p$ and $q$. Then, a few other numbers are defined:\n",
    "\n",
    "$N=pq$\n",
    "\n",
    "$\\mathrm{tot}=\\mathrm{lcm}(p-1,q-1)=(q-1)(p-1)/\\mathrm{gcd}(p-1, q-1)$\n",
    "\n",
    "$e = ($random number coprime to 'tot'$)$\n",
    "\n",
    "$d = e^{-1} (\\mod \\mathrm{tot})$\n",
    "\n",
    "\n",
    "Now, we have our key pairs:\n",
    "\n",
    "public: $(N, e)$\n",
    "\n",
    "private: $(N, d)$\n",
    "\n",
    "\n",
    "We can give the public key out to anyone on in the world, but only we should be able to have private key (we keep it locked up)\n",
    "\n",
    "\n",
    "\n",
    "Now, with the following rules, we can take an original message $m$ amd encrypt it:\n",
    "\n",
    "\n",
    "$m_{enc} = m ^ e (\\mod N)$\n",
    "\n",
    "\n",
    "And, to get the original message:\n",
    "\n",
    "$m_{dec} = m_{enc} ^ d (\\mod N)$\n",
    "\n",
    "And, assuming you have the correct private key, $m_{dec} = m$\n",
    "\n",
    "\n",
    "Notice how the encryption step did not require $d$, so anyone can encrypt something to send to you, but the decryption step requires $e$, which only the person who created the key should have. \n",
    "\n",
    "\n",
    "This works because any number's power series mod $N$ is cyclic every $\\phi(N)$ (i.e. the totient function), and the totient function is defined as: $\\phi(N)=(p-1) * (q-1)$, since $N$ only has 2 prime factors. And therefore, $a^i = a^{i \\mod \\phi(N)}$.\n",
    "\n",
    "Looking back, we see that:\n",
    "\n",
    "$m_{dec} = m_{enc} ^ d (\\mod N) = (m ^ e) ^ d (\\mod N) = m ^ {e * d} (\\mod N) = m ^ {e * d \\mod \\phi(N)} (\\mod N)$\n",
    "\n",
    "And, further, since $e$ and $d$ were chosen to be multiplicative inverses modulo $\\phi(N)$ (i.e. that $ed = 1 \\mod \\phi(N)$), we have that:\n",
    "\n",
    "$m_{dec} = m ^ {1 \\mod \\phi(N)} (\\mod N) = m ^ 1 (\\mod N) = m $\n",
    "\n",
    "And voila! The decrypted result will always be the same as the original message (modulo N)\n",
    "\n",
    "\n",
    "\n",
    "\n",
    "\n"
   ]
  },
  {
   "cell_type": "code",
   "execution_count": 2,
   "metadata": {},
   "outputs": [
    {
     "name": "stdout",
     "output_type": "stream",
     "text": [
      "(20701, 835) (20701, 823)\n",
      "sending message: Meet me at the bridge!\n",
      "encrypted: [17107, 1022, 1022, 18882, 16645, 5998, 1022, 16645, 9372, 18882, 16645, 18882, 10699, 1022, 16645, 15949, 12257, 19013, 8026, 15085, 1022, 20330]\n",
      "decrypted: [77, 101, 101, 116, 32, 109, 101, 32, 97, 116, 32, 116, 104, 101, 32, 98, 114, 105, 100, 103, 101, 33]\n",
      "received message: Meet me at the bridge!\n",
      "Success!\n"
     ]
    }
   ],
   "source": [
    "# how large should the key be?\n",
    "nbits = 8\n",
    "base = 2 ** nbits\n",
    "\n",
    "# generate a public and private key pair\n",
    "pub, pri = gen_keypair(nbits)\n",
    "\n",
    "# priunt them out\n",
    "print (pub, pri)\n",
    "\n",
    "# now, try sending a message\n",
    "\n",
    "msg_txt = \"Meet me at the bridge!\"\n",
    "\n",
    "print (\"sending message:\", msg_txt)\n",
    "\n",
    "msg = [ord(c) for c in msg_txt]\n",
    "\n",
    "msg_enc = rsa_enc(pub, msg)\n",
    "print (\"encrypted:\", msg_enc)\n",
    "\n",
    "msg_dec = rsa_dec(pri, msg_enc)\n",
    "print (\"decrypted:\", msg_dec)\n",
    "\n",
    "\n",
    "# convert back to text\n",
    "msg_dec_txt = \"\".join([chr(c) for c in msg_dec])\n",
    "\n",
    "print (\"received message:\", msg_dec_txt)\n",
    "\n",
    "assert (msg_txt == msg_dec_txt)\n",
    "print (\"Success!\")"
   ]
  },
  {
   "cell_type": "code",
   "execution_count": 4,
   "metadata": {},
   "outputs": [
    {
     "data": {
      "image/png": "[encoded data removed]",
      "text/plain": [
       "<Figure size 432x288 with 1 Axes>"
      ]
     },
     "metadata": {
      "needs_background": "light"
     },
     "output_type": "display_data"
    },
    {
     "data": {
      "image/png": "[encoded data removed]",
      "text/plain": [
       "<Figure size 432x288 with 1 Axes>"
      ]
     },
     "metadata": {
      "needs_background": "light"
     },
     "output_type": "display_data"
    }
   ],
   "source": [
    "# now, let's try breaking it!\n",
    "\n",
    "# list of tries\n",
    "bits = []\n",
    "times = []\n",
    "is_broken = []\n",
    "\n",
    "# try breaking various ranges\n",
    "for b in range(6, 28):\n",
    "    for j in range(2):\n",
    "        pub, pri = gen_keypair(b)\n",
    "        bits += [b]\n",
    "        st = time.time()\n",
    "        pri_broken = crack_rsa_1(pub)\n",
    "        times += [(time.time() - st) * 1000.0]\n",
    "        is_broken += [pri_broken == pri]\n",
    "\n",
    "\n",
    "    \n",
    "plt.scatter(bits, times, c=['green' if b else 'red' for b in is_broken])\n",
    "plt.xlabel(\"N\")\n",
    "plt.ylabel(\"Time to Crack (ms)\")\n",
    "plt.show()\n",
    "\n",
    "# list of tries\n",
    "bits = []\n",
    "times = []\n",
    "is_broken = []\n",
    "\n",
    "# NOTE: Sometimes there will be an overflow error from qiskit in this section\n",
    "# or it may take a long time. Run this cell a if that happens.\n",
    "# try breaking various ranges\n",
    "for b in range(4, 8):\n",
    "    for j in range(1):\n",
    "        pub, pri = gen_keypair(b)\n",
    "        bits += [b]\n",
    "        st = time.time()\n",
    "        pri_broken = crack_rsa_quantum(pub) # we are using shor's for this portion\n",
    "        times += [(time.time() - st) * 1000.0]\n",
    "        is_broken += [pri_broken == pri]\n",
    "\n",
    "\n",
    "# NOTE: this is smaller sample size because the quantum simulator is slow\n",
    "plt.scatter(bits, times, c=['green' if b else 'red' for b in is_broken])\n",
    "plt.xlabel(\"N\")\n",
    "plt.ylabel(\"Time to Crack (ms) (quantum)\")\n",
    "plt.show()"
   ]
  },
  {
   "cell_type": "markdown",
   "metadata": {},
   "source": [
    "# Lucas Lehmer Test\n",
    "\n",
    "\n",
    "The Lucas Lehmer test is a primality test for a specific form of numbers (numbers which are 1 less than a power of 2). It runs faster than many other primality tests for these numbers, but does not give the specific factors as a result (so it is not a factoring algorithm)\n",
    "\n",
    "\n",
    "# Algorithm\n",
    "\n",
    "Definitions:\n",
    "\n",
    "$ M_p = 2^{p} - 1, p \\in \\mathbb{P}, p > 2 $\n",
    "\n",
    "$ L_{i+1} = L_{i} ^ 2 - 2, L_0 = 4$\n",
    "\n",
    "\n",
    "$ M_p $ is prime if $ p $ is prime, and $ L_{p-2} = 0$ (mod $M_p$)\n",
    "\n",
    "\n",
    "Otherwise, $ M_p $ is composite. Additionally, each $ L_i $ can be reduced modulo $M_p$ to keep intermediate results a reasonable size.\n",
    "\n",
    "This algorithm is a good example of a fast primality test for classical computers, and has been used to find the world records for largest primes for the last 20 years.\n",
    "\n",
    "\n"
   ]
  },
  {
   "cell_type": "code",
   "execution_count": 5,
   "metadata": {},
   "outputs": [
    {
     "name": "stdout",
     "output_type": "stream",
     "text": [
      "Mersenne Exponents: [3, 5, 7, 13, 17, 19, 31, 61, 89, 107, 127, 521, 607, 1279, 2203, 2281]\n"
     ]
    },
    {
     "data": {
      "image/png": "[encoded data removed]",
      "text/plain": [
       "<Figure size 432x288 with 1 Axes>"
      ]
     },
     "metadata": {
      "needs_background": "light"
     },
     "output_type": "display_data"
    },
    {
     "data": {
      "image/png": "[encoded data removed]",
      "text/plain": [
       "<Figure size 432x288 with 1 Axes>"
      ]
     },
     "metadata": {
      "needs_background": "light"
     },
     "output_type": "display_data"
    }
   ],
   "source": [
    "# example exponents which mersenne numbers are prime\n",
    "M_exps = list(filter(LLtest, range(3, 3000, 2)))\n",
    "print (\"Mersenne Exponents:\", M_exps)\n",
    "\n",
    "\n",
    "# plot the exponents on a chart\n",
    "plt.scatter(range(len(M_exps)), M_exps)\n",
    "plt.xlabel('Index')\n",
    "plt.ylabel('Mersenne Exponent')\n",
    "\n",
    "plt.show()\n",
    "\n",
    "# now, plot on a log scale\n",
    "\n",
    "plt.scatter(range(len(M_exps)), np.log10(M_exps))\n",
    "plt.xlabel('Index')\n",
    "plt.ylabel('Mersenne Exponent (log10)')\n",
    "\n",
    "plt.show()"
   ]
  },
  {
   "cell_type": "code",
   "execution_count": 6,
   "metadata": {},
   "outputs": [
    {
     "data": {
      "image/png": "[encoded data removed]",
      "text/plain": [
       "<Figure size 432x288 with 1 Axes>"
      ]
     },
     "metadata": {
      "needs_background": "light"
     },
     "output_type": "display_data"
    }
   ],
   "source": [
    "# plotting runtimes for the test\n",
    "# NOTE: There may be some shortcuts (like if the exponent is not prime),\n",
    "#   so some runtimes will be close to 0\n",
    "\n",
    "# create arrays for the results\n",
    "exps = range(3, 3000, 2)\n",
    "is_prime = []\n",
    "times = []\n",
    "\n",
    "for p in exps:\n",
    "    st = time.time()\n",
    "    is_prime += [LLtest(p)]\n",
    "    # add time in ms\n",
    "    times += [(time.time() - st) * 1000.0]\n",
    "    \n",
    "    \n",
    "# now, plot times\n",
    "# array of exponents\n",
    "aE = np.array(exps)\n",
    "# approximate fit: O(n^2 * log(n))\n",
    "# in reaity, Python's big integer library uses less-than-optimal multiplication,\n",
    "#   so the measured times are faster\n",
    "# realy the complexity is O(n * log(n) * Mult(n)), where Mult(n) is the multiplication complexity\n",
    "# Since Python uses karatsuba, Mult(n) = n^1.58\n",
    "# So, the real O is O(n^2.58 * log(n))\n",
    "\n",
    "# simple interpolation coefficient\n",
    "alpha = times[-1] / (aE[-1] ** 2.58 * np.log(aE[-1]))\n",
    "plt.plot(exps, alpha * aE ** 2.58 * np.log(aE))\n",
    "\n",
    "\n",
    "# scatter plot the actual times\n",
    "plt.scatter(exps, times, s=[80 if iP else 1.8 for iP in is_prime], color=['green' if iP else 'red' for iP in is_prime])\n",
    "plt.xlabel('Exponent')\n",
    "plt.ylabel('Time Taken (ms)')\n",
    "\n",
    "plt.show()"
   ]
  },
  {
   "cell_type": "markdown",
   "metadata": {},
   "source": [
    "# Integer Multiplication\n",
    "\n",
    "Integer multiplication is the problem of finding the product of 2 whole numbers (i.e. finding $A*B$, given $A$ and $B$). The classic 'gradeschool' algorithm is $O(N^2)$ where $N$ is the size of the inputs (in bits).\n",
    "\n",
    "However, using the Fast-Fourier-Transform (FFT), that can be sped up to approximately $O(N\\log(N)\\log(N)^2)$.\n",
    "\n",
    "Multiplication of 2 integers is essentially convolution of their digits; for each digit in $A$, we have a copy of $B$ added to the output sequence, which is multiplied by that digit and shifted the number of spaces that the digit was shifted in $A$.\n",
    "\n",
    "For example, taking $23 * 45$ ($A=23, B=45$) can be done simply like:\n",
    "\n",
    "```\n",
    "  23\n",
    "x 45\n",
    "----\n",
    "  45 (*3)\n",
    " 45  (*2)\n",
    "----\n",
    " 135\n",
    " 90\n",
    "----\n",
    "1035\n",
    "\n",
    "```\n",
    "\n",
    "Since, effectively, you can choose $A$ or $B$ to be the amplitudes of the shifted copies of the other one, we can do effectively the same thing through convolution, using FFTs:\n",
    "\n",
    "$A*B=\\textrm{IFFT}(\\textrm{FFT}(A) .* \\textrm{FFT}(B))$ (where $.*$ is pointwise multiplication)\n",
    "\n",
    "The difference in complexity comes from the fact that FFT and IFFT have complexity of $O(N\\log(N))$ and pointwise multiplication of small machine words is $O(N)$, and thus the total running time is (approximately) $O(N\\log(N))$, not accounting for carry. In reality, it becomes $O(N\\log(N)\\log\\log(N))$ when using error correction, etc.\n",
    "\n",
    "\n",
    "Unfortunately, Python doesn't allow direct memory access to the bytes of an integer, so extra steps must be taken to convert it into a string of words for manipulation. However, we account for this in our timing and only account for the FFT/conversion.\n",
    "\n",
    "\n",
    "\n"
   ]
  },
  {
   "cell_type": "code",
   "execution_count": 7,
   "metadata": {},
   "outputs": [
    {
     "data": {
      "image/png": "[encoded data removed]",
      "text/plain": [
       "<Figure size 432x288 with 1 Axes>"
      ]
     },
     "metadata": {
      "needs_background": "light"
     },
     "output_type": "display_data"
    }
   ],
   "source": [
    "# timing our integer multiplication\n",
    "\n",
    "# stats dictionary\n",
    "st = {}\n",
    "\n",
    "# store statistics\n",
    "sizes = []\n",
    "times = []\n",
    "\n",
    "\n",
    "# do a random sampling of different bit sized inputs\n",
    "for bits in range(2, 160000, 1000):\n",
    "    # generate 2 random numbers\n",
    "    a = random.getrandbits(bits)\n",
    "    b = random.getrandbits(bits)\n",
    "\n",
    "    sizes += [(a.bit_length() + b.bit_length()) / 2]\n",
    "\n",
    "    res = intMM(a, b, st)\n",
    "    #st['time'] = time.time()\n",
    "    #res = a * b\n",
    "    #st['time'] = (time.time() - st['time']) * 1000.0\n",
    "    \n",
    "    times += [st['time']]\n",
    "    \n",
    "    # ensure correctness\n",
    "    #assert a * b == res\n",
    "\n",
    "\n",
    "sizes = np.array(sizes)\n",
    "times = np.array(times)\n",
    "\n",
    "# scatter plot the size and times\n",
    "plt.scatter(sizes, times, c='green', s=4)\n",
    "plt.show()\n"
   ]
  }
 ],
 "metadata": {
  "kernelspec": {
   "display_name": "Python 3",
   "language": "python",
   "name": "python3"
  },
  "language_info": {
   "codemirror_mode": {
    "name": "ipython",
    "version": 3
   },
   "file_extension": ".py",
   "mimetype": "text/x-python",
   "name": "python",
   "nbconvert_exporter": "python",
   "pygments_lexer": "ipython3",
   "version": "3.6.9"
  }
 },
 "nbformat": 4,
 "nbformat_minor": 2
}
