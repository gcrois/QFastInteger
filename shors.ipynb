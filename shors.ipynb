{
 "cells": [
  {
   "cell_type": "markdown",
   "metadata": {},
   "source": [
    "# Shor's Algorithm\n",
    "This implementation was authored by Gregory Croisdale <br>\n",
    "5/1/2020, COSC 494, University of Tennesse, Knoxville"
   ]
  },
  {
   "cell_type": "code",
   "execution_count": 1,
   "metadata": {},
   "outputs": [],
   "source": [
    "import numpy as np\n",
    "import matplotlib.pyplot as plt"
   ]
  },
  {
   "cell_type": "code",
   "execution_count": 2,
   "metadata": {},
   "outputs": [],
   "source": [
    "def collapse(n,      # number we're trying to factor\n",
    "             a,      # coprime with n\n",
    "             rem=-1):# target remainder\n",
    "    \"\"\"Find states which yield certain remainder\"\"\"\n",
    "    # initialize remainder and catch stop recursion case\n",
    "    if rem == -1:\n",
    "        rem = n - 1\n",
    "    if rem == 0:\n",
    "        raise ValueError(\"No valid states found\")\n",
    "    \n",
    "    # find mod inverses\n",
    "    end = 2 ** n.bit_length()\n",
    "    out = []\n",
    "    for i in range(end):\n",
    "        if (a ** i) % n == rem:\n",
    "            out += [i]\n",
    "    \n",
    "    # if unsuccessful, try reducing remainder\n",
    "    if len(out) == 0:\n",
    "        return collapse(n, a, rem=rem-1)\n",
    "    \n",
    "    return out"
   ]
  },
  {
   "cell_type": "code",
   "execution_count": 3,
   "metadata": {},
   "outputs": [],
   "source": [
    "def quantum_ft(n, guess):\n",
    "    \"\"\"Performs a quantum fourier transformation so we can find periods. Large\n",
    "       portions of this code are from the Qiskit reference material.           \"\"\"\n",
    "    from qiskit import QuantumCircuit, QuantumRegister, execute, Aer, IBMQ\n",
    "    from numpy import pi\n",
    "    \n",
    "    # The following code is from qiskit reference:\n",
    "    def qft_rotations(circuit, n):\n",
    "        \"\"\"Performs qft on the first n qubits in circuit (without swaps)\"\"\"\n",
    "        if n == 0:\n",
    "            return circuit\n",
    "        n -= 1\n",
    "        circuit.h(n)\n",
    "        for qubit in range(n):\n",
    "            circuit.cu1(pi/2**(n-qubit), qubit, n)\n",
    "        # At the end of our function, we call the same function again on\n",
    "        # the next qubits (we reduced n by one earlier in the function)\n",
    "        qft_rotations(circuit, n)\n",
    "    \n",
    "    def swap_registers(circuit, n):\n",
    "        for qubit in range(n//2):\n",
    "            circuit.swap(qubit, n-qubit-1)\n",
    "        return circuit\n",
    "\n",
    "    def qft(circuit, n):\n",
    "        \"\"\"QFT on the first n qubits in circuit\"\"\"\n",
    "        qft_rotations(circuit, n)\n",
    "        swap_registers(circuit, n)\n",
    "        return circuit\n",
    "    \n",
    "    # The following code is my own:\n",
    "    # mark qubits with designated modulo value\n",
    "    marked = collapse(n, guess)\n",
    "    \n",
    "    # create a democratic state from all marked qubits\n",
    "    state = [1 / np.sqrt(len(marked)) if i in marked else 0 for i in range(2 ** n.bit_length())]\n",
    "    q = QuantumRegister(n.bit_length())\n",
    "    qc = QuantumCircuit(q)\n",
    "    qc.initialize(state, q)\n",
    "    \n",
    "    # perform qft twice\n",
    "    qft(qc,n.bit_length())\n",
    "    qft(qc,n.bit_length())\n",
    "\n",
    "    backend = Aer.get_backend(\"statevector_simulator\")\n",
    "    statevector = execute(qc, backend=backend).result().get_statevector()\n",
    "    return np.abs(statevector) ** 2"
   ]
  },
  {
   "cell_type": "code",
   "execution_count": 4,
   "metadata": {},
   "outputs": [],
   "source": [
    "def classical_ft(n, guess):\n",
    "    \"\"\"Performs a classical fourier transformation so we can find periods.\"\"\"\n",
    "    # mark \"qubits\" with designated modulo value\n",
    "    marked = collapse(n, guess)\n",
    "    state = [1 / np.sqrt(len(marked)) if i in marked else 0 for i in range(2 ** n.bit_length())]\n",
    "\n",
    "    return np.fft.fft(np.fft.fft(np.abs(state) ** 2))"
   ]
  },
  {
   "cell_type": "code",
   "execution_count": 5,
   "metadata": {},
   "outputs": [],
   "source": [
    "def find_period(ft_result):\n",
    "    \"\"\"Finds the period from a completed fourier transformation.\"\"\"\n",
    "    probs = np.abs((ft_result)) ** 2\n",
    "    peaks = np.where(probs > np.amax(probs) / 2)[0]\n",
    "    if len(peaks) < 2:\n",
    "        return 1\n",
    "    return peaks[1] - peaks[0]"
   ]
  },
  {
   "cell_type": "code",
   "execution_count": 6,
   "metadata": {},
   "outputs": [],
   "source": [
    "def prime_from_period(a, # \"guess\" - coprime with n\n",
    "                      r, # period\n",
    "                      n):# number we're factoring\n",
    "    \"\"\"Turns a found period into two factors\"\"\"\n",
    "    prime1 = np.gcd(a ** (r // 2) - 1, n)\n",
    "    if prime1 == 1:\n",
    "        prime1 = np.gcd(a ** (r // 2) + 1, n)\n",
    "    prime2 = n // prime1\n",
    "    assert prime1 * prime2 == n\n",
    "    \n",
    "    return prime1, prime2"
   ]
  },
  {
   "cell_type": "code",
   "execution_count": 11,
   "metadata": {},
   "outputs": [],
   "source": [
    "def shor_factor(\n",
    "    n,\n",
    "    guess=3,\n",
    "    mode=\"quantum_ft\"):\n",
    "    \"\"\"Factors an integer using a designated method\"\"\"\n",
    "    ft = None\n",
    "    if (mode == \"quantum_ft\"):\n",
    "        ft=quantum_ft     \n",
    "    elif (mode == \"classical_ft\"):\n",
    "        ft=classical_ft\n",
    "    else:\n",
    "        raise TypeError(mode)\n",
    "        \n",
    "    # keep guessing until you get a helpful period\n",
    "    while (guess < n):\n",
    "        print(guess)\n",
    "        # perform qft and find period\n",
    "        period = find_period(ft(n, guess))\n",
    "        # turn period into two primes\n",
    "        prime1, prime2 = prime_from_period(guess, period, n)\n",
    "        # ignore n, 1 pairs\n",
    "        if (abs(prime1 - prime2) != n - 1):\n",
    "            return prime1, prime2\n",
    "\n",
    "        # find a new guess\n",
    "        guess += 1\n",
    "        while np.gcd(guess, n) != 1 and guess < n:\n",
    "            guess += 1\n",
    "        \n",
    "    return 1, n"
   ]
  },
  {
   "cell_type": "code",
   "execution_count": 13,
   "metadata": {},
   "outputs": [
    {
     "name": "stdout",
     "output_type": "stream",
     "text": [
      "3\n",
      "4\n",
      "5\n",
      "6\n",
      "1 7 0.0012319087982177734\n",
      "3\n",
      "23 45 0.25469064712524414\n"
     ]
    }
   ],
   "source": [
    "from time import time\n",
    "\n",
    "time_0 = time()\n",
    "p1, p2 = shor_factor(7, mode=\"classical_ft\")\n",
    "time_1 = time()\n",
    "print(p1, p2, time_1 - time_0)\n",
    "\n",
    "time_0 = time()\n",
    "p1, p2 = shor_factor(1035, mode=\"quantum_ft\")\n",
    "time_1 = time()\n",
    "print(p1, p2, time_1 - time_0)"
   ]
  }
 ],
 "metadata": {
  "kernelspec": {
   "display_name": "Python 3",
   "language": "python",
   "name": "python3"
  },
  "language_info": {
   "codemirror_mode": {
    "name": "ipython",
    "version": 3
   },
   "file_extension": ".py",
   "mimetype": "text/x-python",
   "name": "python",
   "nbconvert_exporter": "python",
   "pygments_lexer": "ipython3",
   "version": "3.6.9"
  }
 },
 "nbformat": 4,
 "nbformat_minor": 2
}
