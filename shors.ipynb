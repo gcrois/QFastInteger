{
 "cells": [
  {
   "cell_type": "markdown",
   "metadata": {},
   "source": [
    "# Shor's Algorithm\n",
    "This implementation was authored by Gregory Croisdale <br>\n",
    "5/1/2020, COSC 494, University of Tennesse, Knoxville"
   ]
  },
  {
   "cell_type": "code",
   "execution_count": 15,
   "metadata": {},
   "outputs": [],
   "source": [
    "import numpy as np\n",
    "import matplotlib.pyplot as plt"
   ]
  },
  {
   "cell_type": "code",
   "execution_count": 68,
   "metadata": {},
   "outputs": [],
   "source": [
    "def collapse(n, a, rem):\n",
    "    \"\"\"Find states which yield certain remainder\"\"\"\n",
    "    end = 2 ** n.bit_length()\n",
    "    out = []\n",
    "    for i in range(end):\n",
    "        if (a ** i) % n == rem:\n",
    "            out += [i]\n",
    "    return out"
   ]
  },
  {
   "cell_type": "code",
   "execution_count": 71,
   "metadata": {},
   "outputs": [
    {
     "name": "stdout",
     "output_type": "stream",
     "text": [
      "[3, 13, 23, 33, 43, 53, 63]\n"
     ]
    },
    {
     "data": {
      "text/plain": [
       "array([ 3.30718914e-01-1.44647807e-16j,  2.89535777e-02+2.85167850e-03j,\n",
       "        3.09618940e-02+6.15870363e-03j,  3.51178176e-02+1.06528735e-02j,\n",
       "        4.36492051e-02+1.80800927e-02j,  6.53635953e-02+3.49375696e-02j,\n",
       "        1.97490218e-01+1.31958745e-01j, -1.10956324e-01-9.10595022e-02j,\n",
       "       -3.34076552e-02-3.34076552e-02j, -1.47645862e-02-1.79907004e-02j,\n",
       "       -5.22109683e-03-7.81392361e-03j,  2.82399697e-03+5.28332672e-03j,\n",
       "        1.80800927e-02+4.36492051e-02j, -8.87649789e-02-2.92618920e-01j,\n",
       "       -1.37944418e-02-6.93493421e-02j, -5.02479175e-03-5.10175668e-02j,\n",
       "       -4.33943421e-17-4.72455591e-02j,  5.02479175e-03-5.10175668e-02j,\n",
       "        1.37944418e-02-6.93493421e-02j,  8.87649789e-02-2.92618920e-01j,\n",
       "       -1.80800927e-02+4.36492051e-02j, -2.82399697e-03+5.28332672e-03j,\n",
       "        5.22109683e-03-7.81392361e-03j,  1.47645862e-02-1.79907004e-02j,\n",
       "        3.34076552e-02-3.34076552e-02j,  1.10956324e-01-9.10595022e-02j,\n",
       "       -1.97490218e-01+1.31958745e-01j, -6.53635953e-02+3.49375696e-02j,\n",
       "       -4.36492051e-02+1.80800927e-02j, -3.51178176e-02+1.06528735e-02j,\n",
       "       -3.09618940e-02+6.15870363e-03j, -2.89535777e-02+2.85167850e-03j,\n",
       "       -3.30718914e-01+1.44647807e-16j, -2.89535777e-02-2.85167850e-03j,\n",
       "       -3.09618940e-02-6.15870363e-03j, -3.51178176e-02-1.06528735e-02j,\n",
       "       -4.36492051e-02-1.80800927e-02j, -6.53635953e-02-3.49375696e-02j,\n",
       "       -1.97490218e-01-1.31958745e-01j,  1.10956324e-01+9.10595022e-02j,\n",
       "        3.34076552e-02+3.34076552e-02j,  1.47645862e-02+1.79907004e-02j,\n",
       "        5.22109683e-03+7.81392361e-03j, -2.82399697e-03-5.28332672e-03j,\n",
       "       -1.80800927e-02-4.36492051e-02j,  8.87649789e-02+2.92618920e-01j,\n",
       "        1.37944418e-02+6.93493421e-02j,  5.02479175e-03+5.10175668e-02j,\n",
       "        4.33943421e-17+4.72455591e-02j, -5.02479175e-03+5.10175668e-02j,\n",
       "       -1.37944418e-02+6.93493421e-02j, -8.87649789e-02+2.92618920e-01j,\n",
       "        1.80800927e-02-4.36492051e-02j,  2.82399697e-03-5.28332672e-03j,\n",
       "       -5.22109683e-03+7.81392361e-03j, -1.47645862e-02+1.79907004e-02j,\n",
       "       -3.34076552e-02+3.34076552e-02j, -1.10956324e-01+9.10595022e-02j,\n",
       "        1.97490218e-01-1.31958745e-01j,  6.53635953e-02-3.49375696e-02j,\n",
       "        4.36492051e-02-1.80800927e-02j,  3.51178176e-02-1.06528735e-02j,\n",
       "        3.09618940e-02-6.15870363e-03j,  2.89535777e-02-2.85167850e-03j])"
      ]
     },
     "execution_count": 71,
     "metadata": {},
     "output_type": "execute_result"
    }
   ],
   "source": [
    "def quantum_ft(n, guess, rem=3):\n",
    "    \"\"\"Performs a quantum fourier transformation so we can find periods. Large\n",
    "       portions of this code are from the Qiskit reference material.           \"\"\"\n",
    "    from qiskit import QuantumCircuit, QuantumRegister, execute, Aer, IBMQ\n",
    "    from numpy import pi\n",
    "    \n",
    "    # The following code is from qiskit reference:\n",
    "    def qft_rotations(circuit, n):\n",
    "        \"\"\"Performs qft on the first n qubits in circuit (without swaps)\"\"\"\n",
    "        if n == 0:\n",
    "            return circuit\n",
    "        n -= 1\n",
    "        circuit.h(n)\n",
    "        for qubit in range(n):\n",
    "            circuit.cu1(pi/2**(n-qubit), qubit, n)\n",
    "        # At the end of our function, we call the same function again on\n",
    "        # the next qubits (we reduced n by one earlier in the function)\n",
    "        qft_rotations(circuit, n)\n",
    "    \n",
    "    def swap_registers(circuit, n):\n",
    "        for qubit in range(n//2):\n",
    "            circuit.swap(qubit, n-qubit-1)\n",
    "        return circuit\n",
    "\n",
    "    def qft(circuit, n):\n",
    "        \"\"\"QFT on the first n qubits in circuit\"\"\"\n",
    "        qft_rotations(circuit, n)\n",
    "        swap_registers(circuit, n)\n",
    "        return circuit\n",
    "    \n",
    "    # The following code is my own:\n",
    "    # mark qubits with designated modulo value\n",
    "    marked = collapse(n, guess, rem)\n",
    "    print(marked)\n",
    "    \n",
    "    # create a democratic state from all marked qubits\n",
    "    state = [1 / np.sqrt(len(marked)) if i in marked else 0 for i in range(2 ** n.bit_length())]\n",
    "    q = QuantumRegister(n.bit_length())\n",
    "    qc = QuantumCircuit(q)\n",
    "    qc.initialize(state, q)\n",
    "    qft(qc,n.bit_length())\n",
    "    \n",
    "    backend = Aer.get_backend(\"statevector_simulator\")\n",
    "    statevector = execute(qc, backend=backend).result().get_statevector()\n",
    "    return statevector"
   ]
  },
  {
   "cell_type": "code",
   "execution_count": 11,
   "metadata": {},
   "outputs": [],
   "source": [
    "def classical_ft(n):\n",
    "    \"\"\"Performs a classical fourier transformation so we can find periods.\"\"\"\n",
    "    return []"
   ]
  },
  {
   "cell_type": "code",
   "execution_count": 12,
   "metadata": {},
   "outputs": [],
   "source": [
    "def find_period(ft_result):\n",
    "    \"\"\"Finds the period from a completed fourier transformation.\"\"\"\n",
    "    return []"
   ]
  },
  {
   "cell_type": "code",
   "execution_count": 75,
   "metadata": {},
   "outputs": [],
   "source": [
    "def Shor_Factor(\n",
    "    n,\n",
    "    guess=3,\n",
    "    mode=\"quantum\"):\n",
    "    \"\"\"Factors an integer using a designated method\"\"\"\n",
    "    if (mode == \"quantum\"):\n",
    "        return find_period(quantum_ft())\n",
    "    elif (mode == \"classical\"):\n",
    "        return find_period(quantum_ft())\n",
    "    else:\n",
    "        raise TypeError(mode)\n",
    "    return n"
   ]
  },
  {
   "cell_type": "code",
   "execution_count": 78,
   "metadata": {},
   "outputs": [
    {
     "ename": "TypeError",
     "evalue": "pee",
     "output_type": "error",
     "traceback": [
      "\u001b[0;31m---------------------------------------------------------------------------\u001b[0m",
      "\u001b[0;31mTypeError\u001b[0m                                 Traceback (most recent call last)",
      "\u001b[0;32m<ipython-input-78-ec79d2f64d0c>\u001b[0m in \u001b[0;36m<module>\u001b[0;34m\u001b[0m\n\u001b[0;32m----> 1\u001b[0;31m \u001b[0mShor_Factor\u001b[0m\u001b[0;34m(\u001b[0m\u001b[0;36m2\u001b[0m\u001b[0;34m,\u001b[0m \u001b[0mmode\u001b[0m\u001b[0;34m=\u001b[0m\u001b[0;34m\"pee\"\u001b[0m\u001b[0;34m)\u001b[0m\u001b[0;34m\u001b[0m\u001b[0;34m\u001b[0m\u001b[0m\n\u001b[0m",
      "\u001b[0;32m<ipython-input-75-aaab0c6fbce9>\u001b[0m in \u001b[0;36mShor_Factor\u001b[0;34m(n, guess, mode)\u001b[0m\n\u001b[1;32m      9\u001b[0m         \u001b[0;32mreturn\u001b[0m \u001b[0mfind_period\u001b[0m\u001b[0;34m(\u001b[0m\u001b[0mquantum_ft\u001b[0m\u001b[0;34m(\u001b[0m\u001b[0;34m)\u001b[0m\u001b[0;34m)\u001b[0m\u001b[0;34m\u001b[0m\u001b[0;34m\u001b[0m\u001b[0m\n\u001b[1;32m     10\u001b[0m     \u001b[0;32melse\u001b[0m\u001b[0;34m:\u001b[0m\u001b[0;34m\u001b[0m\u001b[0;34m\u001b[0m\u001b[0m\n\u001b[0;32m---> 11\u001b[0;31m         \u001b[0;32mraise\u001b[0m \u001b[0mTypeError\u001b[0m\u001b[0;34m(\u001b[0m\u001b[0mmode\u001b[0m\u001b[0;34m)\u001b[0m\u001b[0;34m\u001b[0m\u001b[0;34m\u001b[0m\u001b[0m\n\u001b[0m\u001b[1;32m     12\u001b[0m     \u001b[0;32mreturn\u001b[0m \u001b[0mn\u001b[0m\u001b[0;34m\u001b[0m\u001b[0;34m\u001b[0m\u001b[0m\n",
      "\u001b[0;31mTypeError\u001b[0m: pee"
     ]
    }
   ],
   "source": [
    "Shor_Factor(2, mode=\"pee\")"
   ]
  },
  {
   "cell_type": "code",
   "execution_count": null,
   "metadata": {},
   "outputs": [],
   "source": []
  }
 ],
 "metadata": {
  "kernelspec": {
   "display_name": "Python 3",
   "language": "python",
   "name": "python3"
  },
  "language_info": {
   "codemirror_mode": {
    "name": "ipython",
    "version": 3
   },
   "file_extension": ".py",
   "mimetype": "text/x-python",
   "name": "python",
   "nbconvert_exporter": "python",
   "pygments_lexer": "ipython3",
   "version": "3.6.9"
  }
 },
 "nbformat": 4,
 "nbformat_minor": 2
}
