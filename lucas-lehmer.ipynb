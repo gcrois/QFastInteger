{
 "cells": [
  {
   "cell_type": "code",
   "execution_count": 1,
   "metadata": {},
   "outputs": [
    {
     "name": "stdout",
     "output_type": "stream",
     "text": [
      "23\n"
     ]
    }
   ],
   "source": [
    "# Lucas-Lehmer (LL) test for Mersenne primes\n",
    "\n",
    "## imports\n",
    "import numpy as np\n",
    "\n"
   ]
  },
  {
   "cell_type": "code",
   "execution_count": 12,
   "metadata": {},
   "outputs": [
    {
     "name": "stdout",
     "output_type": "stream",
     "text": [
      "Success!\n"
     ]
    }
   ],
   "source": [
    "## function definitions\n",
    "\n",
    "# get the 'p'th mersenne prime\n",
    "def M(p):\n",
    "    return 2 ** p - 1\n",
    "\n",
    "# tell whether a number is prime via test division\n",
    "def isPrime(n):\n",
    "    if n == 2: return True\n",
    "    if n % 2 == 0 or n < 2: return False\n",
    "    RSp = int(n ** 0.5) + 1\n",
    "    for i in range(3, RSp+1, 2):\n",
    "        if n % i == 0:\n",
    "            return False\n",
    "    return True\n",
    "\n",
    "\n",
    "# perform a lucas lehmer test on 2**p-1, return whether it was prime\n",
    "def LLtest(p):\n",
    "    # hard test\n",
    "    if p == 2: return True\n",
    "    \n",
    "    # perform trial division on the exponent\n",
    "    if not isPrime(p): return False\n",
    "\n",
    "    \n",
    "    # calculate the mersenne prime\n",
    "    Mp = M(p)\n",
    "    \n",
    "    # current residue\n",
    "    Li = 4\n",
    "    \n",
    "    # perform tests\n",
    "    for i in range(p-2):\n",
    "        Li = pow(Li, 2, Mp) - 2\n",
    "        \n",
    "    return (Li % Mp) == 0\n",
    "\n",
    "\n",
    "# assert \n",
    "for i in range(2, 40):\n",
    "    assert LLtest(i) == isPrime(M(i))\n",
    "\n",
    "print (\"Success!\")\n"
   ]
  },
  {
   "cell_type": "code",
   "execution_count": 33,
   "metadata": {},
   "outputs": [
    {
     "name": "stdout",
     "output_type": "stream",
     "text": [
      "6170\n"
     ]
    }
   ],
   "source": [
    "\n",
    "\n",
    "def intMM(a, b):\n",
    "    \n",
    "    base = 2 ** 32\n",
    "    \n",
    "    # turn into an array with a given base\n",
    "    def getX(num):\n",
    "        X = []\n",
    "        d = num\n",
    "        \n",
    "        # while there are more digits\n",
    "        while d > 0:\n",
    "            # although this has a higher complexity, it is still be calculated fairly\n",
    "            #   fast because it can be performed with a bitshift of a fixed number\n",
    "            #   of bits, so probably O(n)\n",
    "            d, m = divmod(d, base)\n",
    "            X.append(m)\n",
    "        \n",
    "        return X\n",
    "    \n",
    "    # get back an integer from the base\n",
    "    def fromX(X):\n",
    "        num = 0\n",
    "        bi = 1\n",
    "        \n",
    "        for x in X:\n",
    "            # we use multiplication by a base here; this is O(1) in C though;\n",
    "            #  because it is a fixed size\n",
    "            num += bi * x\n",
    "            bi *= base\n",
    "        \n",
    "        return int(num)\n",
    "        \n",
    "    # arrays\n",
    "    aX = getX(a)\n",
    "    bX = getX(b)\n",
    "    \n",
    "    # add 0s and pad it\n",
    "    if len(aX) > len(bX):\n",
    "        aX.append(0)\n",
    "        bX += [0] * (len(aX) - len(bX) + 1)\n",
    "    elif len(aX) < len(bX):\n",
    "        bX.append(0)\n",
    "        aX += [0] * (len(bX) - len(aX) + 1)\n",
    "    else:\n",
    "        aX.append(0)\n",
    "        bX.append(0)\n",
    "    \n",
    "    # frequencies of digits\n",
    "    faX = np.fft.rfft(aX)\n",
    "    fbX = np.fft.rfft(bX)\n",
    "    \n",
    "    # pointwise multiplication of frequencies, which convolves the integers\n",
    "    # think about it:\n",
    "    #\n",
    "    #   34\n",
    "    # x 12\n",
    "    # ----\n",
    "    #   68\n",
    "    #  340\n",
    "    # ----\n",
    "    #  408\n",
    "    #\n",
    "    # Each of the rows in the second sum is the original sequence (34)\n",
    "    #   offset by the index of the digit in the second sequence (12),\n",
    "    #   and scaled by the magnitude\n",
    "    # This is:\n",
    "    # sum(sum(A[j] * B[i] * 10**i for j in range(n)) for i in range(n))\n",
    "    #\n",
    "    # And so, any particular digit (digit 'd') of the output is:\n",
    "    # C[d] = sum(A[i - d] * B[i + d] for i in range(n))\n",
    "    # (not accounting for carry)\n",
    "    #\n",
    "    # So, this is a linear sequence that can be modeled as an IR which\n",
    "    #   the 2 sequences are convolving in\n",
    "    #\n",
    "    # Therefore, their product is the convolution of the digits (and carry must be\n",
    "    #   executed)\n",
    "    #\n",
    "    # Since convolve(A, B) == iFFT(FFT(A) .* FFT(B))\n",
    "    # We can compute it quicker via O(n * logn) FFT algorithm + O(n) multiplication algorithm\n",
    "    #\n",
    "    fcX = faX * fbX\n",
    "    \n",
    "    # compute inverse FFT\n",
    "    cX = np.fft.irfft(fcX)\n",
    "    \n",
    "    #print (aX, bX, cX)\n",
    "    \n",
    "    # return from bases\n",
    "    return fromX(cX)\n",
    "\n",
    "print (intMM(1234, 5))\n",
    "\n",
    "\n",
    "    "
   ]
  },
  {
   "cell_type": "code",
   "execution_count": null,
   "metadata": {},
   "outputs": [],
   "source": []
  },
  {
   "cell_type": "code",
   "execution_count": null,
   "metadata": {},
   "outputs": [],
   "source": []
  }
 ],
 "metadata": {
  "kernelspec": {
   "display_name": "Python 3",
   "language": "python",
   "name": "python3"
  },
  "language_info": {
   "codemirror_mode": {
    "name": "ipython",
    "version": 3
   },
   "file_extension": ".py",
   "mimetype": "text/x-python",
   "name": "python",
   "nbconvert_exporter": "python",
   "pygments_lexer": "ipython3",
   "version": "3.8.2"
  }
 },
 "nbformat": 4,
 "nbformat_minor": 2
}
