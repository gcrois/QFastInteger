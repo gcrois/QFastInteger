{
 "cells": [
  {
   "cell_type": "code",
   "execution_count": 1,
   "metadata": {},
   "outputs": [],
   "source": [
    "# Lucas-Lehmer (LL) test for Mersenne primes\n",
    "\n",
    "## imports\n",
    "import numpy as np\n",
    "\n"
   ]
  },
  {
   "cell_type": "code",
   "execution_count": 63,
   "metadata": {},
   "outputs": [
    {
     "name": "stdout",
     "output_type": "stream",
     "text": [
      "Success!\n"
     ]
    }
   ],
   "source": [
    "## function definitions\n",
    "\n",
    "# get the 'p'th mersenne prime\n",
    "def M(p):\n",
    "    return 2 ** p - 1\n",
    "\n",
    "# tell whether a number is prime via test division\n",
    "def isPrime(n):\n",
    "    if n == 2: return True\n",
    "    if n % 2 == 0 or n < 2: return False\n",
    "    RSp = int(n ** 0.5) + 1\n",
    "    for i in range(3, RSp+1, 2):\n",
    "        if n % i == 0:\n",
    "            return False\n",
    "    return True\n",
    "\n",
    "\n",
    "# perform a lucas lehmer test on 2**p-1, return whether it was prime\n",
    "def LLtest(p):\n",
    "    \n",
    "    \"\"\"\n",
    "    \n",
    "    Firstly: p==2 is a special case because it is even\n",
    "    \n",
    "    And, any p that is not prime implies that M(p) is also not prime\n",
    "    \n",
    "    On each iteration, track Li (L0 = 4)\n",
    "    L(i+1) = L(i) ^ 2 - 2 (mod M(p))\n",
    "    \n",
    "    If L(p - 2) == 0 (mod M(p)), then M(p) is prime\n",
    "    \n",
    "    Otherwise, it is definitely not prime\n",
    "    \n",
    "    \n",
    "    \"\"\"\n",
    "    \n",
    "    # hard-coded test\n",
    "    if p == 2: return True\n",
    "    \n",
    "    # perform trial division on the exponent\n",
    "    if not isPrime(p): return False\n",
    "\n",
    "    \n",
    "    # calculate the mersenne prime\n",
    "    Mp = M(p)\n",
    "    \n",
    "    # current residue\n",
    "    Li = 4\n",
    "    \n",
    "    # perform test\n",
    "    for i in range(p-2):\n",
    "        Li = pow(Li, 2, Mp) - 2\n",
    "    \n",
    "    # check if it is divisible by M(p)\n",
    "    return (Li % Mp) == 0\n",
    "\n",
    "\n",
    "# assert it is equivalent to a primality test\n",
    "for i in range(2, 40):\n",
    "    assert LLtest(i) == isPrime(M(i))\n",
    "\n",
    "print (\"Success!\")\n"
   ]
  },
  {
   "cell_type": "code",
   "execution_count": 72,
   "metadata": {},
   "outputs": [
    {
     "name": "stdout",
     "output_type": "stream",
     "text": [
      "[3, 5, 7, 13, 17, 19, 31, 61, 89, 107, 127, 521, 607, 1279, 2203, 2281]\n"
     ]
    }
   ],
   "source": [
    "\n",
    "# print some large primes's exponents\n",
    "mersenne_exps = list(filter(LLtest, range(3, 3000, 2)))\n",
    "\n",
    "print (mersenne_exps)\n",
    "    "
   ]
  },
  {
   "cell_type": "code",
   "execution_count": null,
   "metadata": {},
   "outputs": [],
   "source": []
  }
 ],
 "metadata": {
  "kernelspec": {
   "display_name": "Python 3",
   "language": "python",
   "name": "python3"
  },
  "language_info": {
   "codemirror_mode": {
    "name": "ipython",
    "version": 3
   },
   "file_extension": ".py",
   "mimetype": "text/x-python",
   "name": "python",
   "nbconvert_exporter": "python",
   "pygments_lexer": "ipython3",
   "version": "3.8.2"
  }
 },
 "nbformat": 4,
 "nbformat_minor": 2
}
