{
 "cells": [
  {
   "cell_type": "code",
   "execution_count": 1,
   "metadata": {},
   "outputs": [],
   "source": [
    "# Lucas-Lehmer (LL) test for Mersenne primes\n",
    "\n",
    "## imports\n",
    "import numpy as np\n",
    "\n",
    "\n"
   ]
  },
  {
   "cell_type": "code",
   "execution_count": null,
   "metadata": {},
   "outputs": [],
   "source": [
    "## function definitions\n",
    "\n",
    "# get the 'p'th mersenne prime\n",
    "def M(p):\n",
    "    return 2 ** p - 1\n",
    "\n",
    "# perform a lucas lehmer test on 2**p-1, return whether it was prime\n",
    "def LLtest(p):\n",
    "    # perform trial division on the exponent\n",
    "    if p % 2 == 0: return False\n",
    "    RSp = int(p ** 0.5) + 1\n",
    "    for i in range(3, RSp+1, 2):\n",
    "        if p % i == 0:\n",
    "            return False\n",
    "    \n",
    "    # calculate the mersenne prime\n",
    "    Mp = M(p)\n"
   ]
  }
 ],
 "metadata": {
  "kernelspec": {
   "display_name": "Python 3",
   "language": "python",
   "name": "python3"
  },
  "language_info": {
   "codemirror_mode": {
    "name": "ipython",
    "version": 3
   },
   "file_extension": ".py",
   "mimetype": "text/x-python",
   "name": "python",
   "nbconvert_exporter": "python",
   "pygments_lexer": "ipython3",
   "version": "3.8.2"
  }
 },
 "nbformat": 4,
 "nbformat_minor": 2
}
